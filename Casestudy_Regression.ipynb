{
 "cells": [
  {
   "cell_type": "code",
   "execution_count": 1,
   "id": "ad38a90a",
   "metadata": {},
   "outputs": [],
   "source": [
    "#import libraries\n",
    "import numpy as np\n",
    "import pandas as pd\n",
    "import matplotlib.pyplot as plt\n",
    "import seaborn as sns"
   ]
  },
  {
   "cell_type": "code",
   "execution_count": 2,
   "id": "1157929e",
   "metadata": {},
   "outputs": [],
   "source": [
    "#read the data\n",
    "data=pd.read_csv('car_age_price.csv')"
   ]
  },
  {
   "cell_type": "code",
   "execution_count": 3,
   "id": "eec9367d",
   "metadata": {},
   "outputs": [
    {
     "data": {
      "text/html": [
       "<div>\n",
       "<style scoped>\n",
       "    .dataframe tbody tr th:only-of-type {\n",
       "        vertical-align: middle;\n",
       "    }\n",
       "\n",
       "    .dataframe tbody tr th {\n",
       "        vertical-align: top;\n",
       "    }\n",
       "\n",
       "    .dataframe thead th {\n",
       "        text-align: right;\n",
       "    }\n",
       "</style>\n",
       "<table border=\"1\" class=\"dataframe\">\n",
       "  <thead>\n",
       "    <tr style=\"text-align: right;\">\n",
       "      <th></th>\n",
       "      <th>Year</th>\n",
       "      <th>Price</th>\n",
       "    </tr>\n",
       "  </thead>\n",
       "  <tbody>\n",
       "    <tr>\n",
       "      <th>0</th>\n",
       "      <td>2018</td>\n",
       "      <td>465000</td>\n",
       "    </tr>\n",
       "    <tr>\n",
       "      <th>1</th>\n",
       "      <td>2019</td>\n",
       "      <td>755000</td>\n",
       "    </tr>\n",
       "    <tr>\n",
       "      <th>2</th>\n",
       "      <td>2019</td>\n",
       "      <td>700000</td>\n",
       "    </tr>\n",
       "    <tr>\n",
       "      <th>3</th>\n",
       "      <td>2018</td>\n",
       "      <td>465000</td>\n",
       "    </tr>\n",
       "    <tr>\n",
       "      <th>4</th>\n",
       "      <td>2018</td>\n",
       "      <td>465000</td>\n",
       "    </tr>\n",
       "  </tbody>\n",
       "</table>\n",
       "</div>"
      ],
      "text/plain": [
       "   Year   Price\n",
       "0  2018  465000\n",
       "1  2019  755000\n",
       "2  2019  700000\n",
       "3  2018  465000\n",
       "4  2018  465000"
      ]
     },
     "execution_count": 3,
     "metadata": {},
     "output_type": "execute_result"
    }
   ],
   "source": [
    "#to know the data structure\n",
    "data.head()"
   ]
  },
  {
   "cell_type": "code",
   "execution_count": 4,
   "id": "ec322e93",
   "metadata": {},
   "outputs": [
    {
     "data": {
      "text/plain": [
       "Year     0\n",
       "Price    0\n",
       "dtype: int64"
      ]
     },
     "execution_count": 4,
     "metadata": {},
     "output_type": "execute_result"
    }
   ],
   "source": [
    "#checking for null values\n",
    "data.isna().sum()"
   ]
  },
  {
   "cell_type": "code",
   "execution_count": 5,
   "id": "55aa095c",
   "metadata": {},
   "outputs": [
    {
     "data": {
      "text/plain": [
       "<AxesSubplot:>"
      ]
     },
     "execution_count": 5,
     "metadata": {},
     "output_type": "execute_result"
    },
    {
     "data": {
      "image/png": "[encoded data removed]",
      "text/plain": [
       "<Figure size 1000x400 with 2 Axes>"
      ]
     },
     "metadata": {},
     "output_type": "display_data"
    }
   ],
   "source": [
    "#plotting the correlation and heatmap\n",
    "corrmatrix=data.corr()\n",
    "plt.subplots(figsize=(10,4))\n",
    "sns.heatmap(corrmatrix,annot=True,vmin=-0.05,vmax=0.9,linewidth=0.3,cmap='YlGnBu')"
   ]
  },
  {
   "cell_type": "markdown",
   "id": "e6831077",
   "metadata": {},
   "source": [
    "Inference: The heatmap shows that the price and year are highly positively correlated. it implies there exist a linear relationship between the year and price."
   ]
  },
  {
   "cell_type": "markdown",
   "id": "4e06e479",
   "metadata": {},
   "source": [
    "# Linear Regression"
   ]
  },
  {
   "cell_type": "code",
   "execution_count": 6,
   "id": "2e2673eb",
   "metadata": {},
   "outputs": [],
   "source": [
    "#assigining the target and predict values.\n",
    "y=data['Price']\n",
    "x=data.drop(['Price'],axis=1)"
   ]
  },
  {
   "cell_type": "code",
   "execution_count": 7,
   "id": "b5277a45",
   "metadata": {},
   "outputs": [],
   "source": [
    "#split the data for training and testing\n",
    "from sklearn.model_selection import train_test_split\n",
    "x_train,x_test,y_train,y_test = train_test_split(x,y,test_size=.25,random_state=42)"
   ]
  },
  {
   "cell_type": "code",
   "execution_count": 8,
   "id": "f3e4db78",
   "metadata": {},
   "outputs": [],
   "source": [
    "#performing Linear Regression\n",
    "from sklearn import linear_model\n",
    "\n",
    "# Create an instance of Linear Regression implementation\n",
    "lr=linear_model.LinearRegression()"
   ]
  },
  {
   "cell_type": "code",
   "execution_count": 9,
   "id": "c8bdb50b",
   "metadata": {},
   "outputs": [],
   "source": [
    "#fit the regression model\n",
    "model = lr.fit(x_train,y_train)"
   ]
  },
  {
   "cell_type": "code",
   "execution_count": 10,
   "id": "25e3c283",
   "metadata": {},
   "outputs": [],
   "source": [
    "y_pred = model.predict(x_test)"
   ]
  },
  {
   "cell_type": "code",
   "execution_count": 11,
   "id": "2a74c929",
   "metadata": {},
   "outputs": [
    {
     "name": "stdout",
     "output_type": "stream",
     "text": [
      "Mean Squared Error for Linear Regression model =  3878767151.073449\n",
      "R-squared Score for Linear Regression model =  0.4347961632108023\n"
     ]
    }
   ],
   "source": [
    "#finding metric MSE for the Linear regression model\n",
    "from sklearn.metrics import mean_squared_error\n",
    "mse_linear = mean_squared_error(y_test, y_pred)\n",
    "print('Mean Squared Error for Linear Regression model = ',mean_squared_error(y_test,y_pred))\n",
    "\n",
    "#finding metric r2 score\n",
    "from sklearn.metrics import r2_score\n",
    "r2_linear = r2_score(y_test, y_pred)\n",
    "print('R-squared Score for Linear Regression model = ',r2_score(y_test,y_pred))"
   ]
  },
  {
   "cell_type": "markdown",
   "id": "7cca492f",
   "metadata": {},
   "source": [
    "# Lasso Regression"
   ]
  },
  {
   "cell_type": "code",
   "execution_count": 12,
   "id": "5bce3544",
   "metadata": {},
   "outputs": [],
   "source": [
    "# Create an instance of Lasso Regression implementation\n",
    "from sklearn.linear_model import Lasso\n",
    "lasso = Lasso(alpha=1.0)"
   ]
  },
  {
   "cell_type": "code",
   "execution_count": 13,
   "id": "ab01ae25",
   "metadata": {},
   "outputs": [
    {
     "data": {
      "text/plain": [
       "Lasso()"
      ]
     },
     "execution_count": 13,
     "metadata": {},
     "output_type": "execute_result"
    }
   ],
   "source": [
    "# Fit the Lasso model\n",
    "lasso.fit(x_train, y_train)"
   ]
  },
  {
   "cell_type": "code",
   "execution_count": 14,
   "id": "0f7aa977",
   "metadata": {},
   "outputs": [],
   "source": [
    "# Make predictions using the Lasso regression model\n",
    "y_pred_lasso = lasso.predict(x_test)"
   ]
  },
  {
   "cell_type": "code",
   "execution_count": 15,
   "id": "cb06aac9",
   "metadata": {},
   "outputs": [],
   "source": [
    "# Calculate the mean squared error and R-squared score for the Lasso regression model\n",
    "mse_lasso = mean_squared_error(y_test, y_pred_lasso)\n",
    "r2_lasso = r2_score(y_test, y_pred_lasso)"
   ]
  },
  {
   "cell_type": "code",
   "execution_count": 16,
   "id": "acae7bb8",
   "metadata": {},
   "outputs": [
    {
     "name": "stdout",
     "output_type": "stream",
     "text": [
      "Mean Squared Error for Lasso Regression model : 3878735896.222091\n",
      "R-squared Score for Lasso Regression model : 0.4348007175862566\n"
     ]
    }
   ],
   "source": [
    "# Print the results for the Lasso regression model\n",
    "print('Mean Squared Error for Lasso Regression model :', mse_lasso)\n",
    "print('R-squared Score for Lasso Regression model :', r2_lasso)"
   ]
  },
  {
   "cell_type": "markdown",
   "id": "f5c670d2",
   "metadata": {},
   "source": [
    "# Predicting the possible price of a 2022 model second-hand grand i10"
   ]
  },
  {
   "cell_type": "code",
   "execution_count": 17,
   "id": "59f238a0",
   "metadata": {},
   "outputs": [
    {
     "name": "stdout",
     "output_type": "stream",
     "text": [
      "Predicted Price (Linear Regression): 740160.1193776578\n"
     ]
    },
    {
     "name": "stderr",
     "output_type": "stream",
     "text": [
      "C:\\Users\\rejoj\\anaconda3\\lib\\site-packages\\sklearn\\base.py:450: UserWarning: X does not have valid feature names, but LinearRegression was fitted with feature names\n",
      "  warnings.warn(\n"
     ]
    }
   ],
   "source": [
    "#Using linear regression\n",
    "year = 2022\n",
    "price_pred_lr = lr.predict([[year]])\n",
    "print('Predicted Price (Linear Regression):', price_pred_lr[0])"
   ]
  },
  {
   "cell_type": "code",
   "execution_count": 18,
   "id": "d9973c8f",
   "metadata": {},
   "outputs": [
    {
     "name": "stdout",
     "output_type": "stream",
     "text": [
      "Predicted Price (Lasso Regression): 740157.9570014179\n"
     ]
    },
    {
     "name": "stderr",
     "output_type": "stream",
     "text": [
      "C:\\Users\\rejoj\\anaconda3\\lib\\site-packages\\sklearn\\base.py:450: UserWarning: X does not have valid feature names, but Lasso was fitted with feature names\n",
      "  warnings.warn(\n"
     ]
    }
   ],
   "source": [
    "#Using Lasso regression\n",
    "price_pred_lasso = lasso.predict([[year]])\n",
    "print('Predicted Price (Lasso Regression):', price_pred_lasso[0])"
   ]
  },
  {
   "cell_type": "code",
   "execution_count": 19,
   "id": "86287a64",
   "metadata": {},
   "outputs": [
    {
     "name": "stdout",
     "output_type": "stream",
     "text": [
      "Lasso regression is performing better with an R-squared value of: 0.4348007175862566\n"
     ]
    }
   ],
   "source": [
    "#compare the r^2 values\n",
    "if r2_linear > r2_lasso:\n",
    "    print(\"Linear Regression is performing better with an R-squared value of:\", r2_linear)\n",
    "else:\n",
    "    print(\"Lasso regression is performing better with an R-squared value of:\", r2_lasso)"
   ]
  }
 ],
 "metadata": {
  "kernelspec": {
   "display_name": "Python 3 (ipykernel)",
   "language": "python",
   "name": "python3"
  },
  "language_info": {
   "codemirror_mode": {
    "name": "ipython",
    "version": 3
   },
   "file_extension": ".py",
   "mimetype": "text/x-python",
   "name": "python",
   "nbconvert_exporter": "python",
   "pygments_lexer": "ipython3",
   "version": "3.9.13"
  }
 },
 "nbformat": 4,
 "nbformat_minor": 5
}
