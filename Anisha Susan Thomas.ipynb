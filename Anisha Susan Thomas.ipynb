{
 "cells": [
  {
   "cell_type": "code",
   "execution_count": 1,
   "id": "d64603ed",
   "metadata": {},
   "outputs": [],
   "source": [
    "#import libraries\n",
    "import pandas as pd\n",
    "import numpy as np\n",
    "import matplotlib.pyplot as plt\n",
    "import seaborn as sns"
   ]
  },
  {
   "cell_type": "code",
   "execution_count": 2,
   "id": "f8a51b0d",
   "metadata": {},
   "outputs": [],
   "source": [
    "#read the dataset to python environment\n",
    "df=pd.read_excel('iris.xls')"
   ]
  },
  {
   "cell_type": "code",
   "execution_count": 3,
   "id": "7d176af5",
   "metadata": {},
   "outputs": [
    {
     "data": {
      "text/html": [
       "<div>\n",
       "<style scoped>\n",
       "    .dataframe tbody tr th:only-of-type {\n",
       "        vertical-align: middle;\n",
       "    }\n",
       "\n",
       "    .dataframe tbody tr th {\n",
       "        vertical-align: top;\n",
       "    }\n",
       "\n",
       "    .dataframe thead th {\n",
       "        text-align: right;\n",
       "    }\n",
       "</style>\n",
       "<table border=\"1\" class=\"dataframe\">\n",
       "  <thead>\n",
       "    <tr style=\"text-align: right;\">\n",
       "      <th></th>\n",
       "      <th>SL</th>\n",
       "      <th>SW</th>\n",
       "      <th>PL</th>\n",
       "      <th>PW</th>\n",
       "      <th>Classification</th>\n",
       "    </tr>\n",
       "  </thead>\n",
       "  <tbody>\n",
       "    <tr>\n",
       "      <th>0</th>\n",
       "      <td>5.1</td>\n",
       "      <td>3.5</td>\n",
       "      <td>1.4</td>\n",
       "      <td>0.2</td>\n",
       "      <td>Iris-setosa</td>\n",
       "    </tr>\n",
       "    <tr>\n",
       "      <th>1</th>\n",
       "      <td>4.9</td>\n",
       "      <td>3.0</td>\n",
       "      <td>1.4</td>\n",
       "      <td>0.2</td>\n",
       "      <td>Iris-setosa</td>\n",
       "    </tr>\n",
       "    <tr>\n",
       "      <th>2</th>\n",
       "      <td>NaN</td>\n",
       "      <td>3.2</td>\n",
       "      <td>1.3</td>\n",
       "      <td>0.2</td>\n",
       "      <td>Iris-setosa</td>\n",
       "    </tr>\n",
       "    <tr>\n",
       "      <th>3</th>\n",
       "      <td>4.6</td>\n",
       "      <td>3.1</td>\n",
       "      <td>1.5</td>\n",
       "      <td>0.2</td>\n",
       "      <td>Iris-setosa</td>\n",
       "    </tr>\n",
       "    <tr>\n",
       "      <th>4</th>\n",
       "      <td>5.0</td>\n",
       "      <td>3.6</td>\n",
       "      <td>1.4</td>\n",
       "      <td>0.2</td>\n",
       "      <td>Iris-setosa</td>\n",
       "    </tr>\n",
       "  </tbody>\n",
       "</table>\n",
       "</div>"
      ],
      "text/plain": [
       "    SL   SW   PL   PW Classification\n",
       "0  5.1  3.5  1.4  0.2    Iris-setosa\n",
       "1  4.9  3.0  1.4  0.2    Iris-setosa\n",
       "2  NaN  3.2  1.3  0.2    Iris-setosa\n",
       "3  4.6  3.1  1.5  0.2    Iris-setosa\n",
       "4  5.0  3.6  1.4  0.2    Iris-setosa"
      ]
     },
     "execution_count": 3,
     "metadata": {},
     "output_type": "execute_result"
    }
   ],
   "source": [
    "#show the data structure\n",
    "df.head()"
   ]
  },
  {
   "cell_type": "markdown",
   "id": "fe1868e1",
   "metadata": {},
   "source": [
    "# Data preprocessing"
   ]
  },
  {
   "cell_type": "code",
   "execution_count": 4,
   "id": "7180e7ff",
   "metadata": {},
   "outputs": [
    {
     "data": {
      "text/plain": [
       "SL                7\n",
       "SW                6\n",
       "PL                6\n",
       "PW                0\n",
       "Classification    0\n",
       "dtype: int64"
      ]
     },
     "execution_count": 4,
     "metadata": {},
     "output_type": "execute_result"
    }
   ],
   "source": [
    "#checking for null values\n",
    "df.isna().sum()"
   ]
  },
  {
   "cell_type": "code",
   "execution_count": 5,
   "id": "3616e186",
   "metadata": {},
   "outputs": [
    {
     "name": "stdout",
     "output_type": "stream",
     "text": [
      "<class 'pandas.core.frame.DataFrame'>\n",
      "RangeIndex: 150 entries, 0 to 149\n",
      "Data columns (total 5 columns):\n",
      " #   Column          Non-Null Count  Dtype  \n",
      "---  ------          --------------  -----  \n",
      " 0   SL              143 non-null    float64\n",
      " 1   SW              144 non-null    float64\n",
      " 2   PL              144 non-null    float64\n",
      " 3   PW              150 non-null    float64\n",
      " 4   Classification  150 non-null    object \n",
      "dtypes: float64(4), object(1)\n",
      "memory usage: 6.0+ KB\n"
     ]
    }
   ],
   "source": [
    "#checking the data details\n",
    "df.info()"
   ]
  },
  {
   "cell_type": "code",
   "execution_count": 6,
   "id": "68522f65",
   "metadata": {},
   "outputs": [
    {
     "data": {
      "text/plain": [
       "(150, 5)"
      ]
     },
     "execution_count": 6,
     "metadata": {},
     "output_type": "execute_result"
    }
   ],
   "source": [
    "#check the shape of data (no. of rows & columns)\n",
    "df.shape"
   ]
  },
  {
   "cell_type": "code",
   "execution_count": 7,
   "id": "a22e7d5f",
   "metadata": {},
   "outputs": [
    {
     "data": {
      "image/png": "[encoded data removed]",
      "text/plain": [
       "<Figure size 1000x500 with 4 Axes>"
      ]
     },
     "metadata": {},
     "output_type": "display_data"
    }
   ],
   "source": [
    "#checking the distribution of each feature\n",
    "freqgraph=df.select_dtypes(include=['float'])\n",
    "freqgraph.hist(figsize=(10,5))\n",
    "plt.show()"
   ]
  },
  {
   "cell_type": "code",
   "execution_count": 8,
   "id": "478413d7",
   "metadata": {},
   "outputs": [],
   "source": [
    "#filling the missing values with median\n",
    "for col in ['SL','SW','PL']:\n",
    "    df[col] = df[col].fillna(df[col].median())"
   ]
  },
  {
   "cell_type": "code",
   "execution_count": 9,
   "id": "0f4d4b75",
   "metadata": {},
   "outputs": [
    {
     "data": {
      "text/plain": [
       "SL                0\n",
       "SW                0\n",
       "PL                0\n",
       "PW                0\n",
       "Classification    0\n",
       "dtype: int64"
      ]
     },
     "execution_count": 9,
     "metadata": {},
     "output_type": "execute_result"
    }
   ],
   "source": [
    "df.isna().sum()"
   ]
  },
  {
   "cell_type": "code",
   "execution_count": 10,
   "id": "537c7b5a",
   "metadata": {},
   "outputs": [
    {
     "data": {
      "text/plain": [
       "3"
      ]
     },
     "execution_count": 10,
     "metadata": {},
     "output_type": "execute_result"
    }
   ],
   "source": [
    "#checking for duplicated rows and values\n",
    "df.duplicated().sum()"
   ]
  },
  {
   "cell_type": "code",
   "execution_count": 11,
   "id": "e2ed9da6",
   "metadata": {},
   "outputs": [
    {
     "data": {
      "text/html": [
       "<div>\n",
       "<style scoped>\n",
       "    .dataframe tbody tr th:only-of-type {\n",
       "        vertical-align: middle;\n",
       "    }\n",
       "\n",
       "    .dataframe tbody tr th {\n",
       "        vertical-align: top;\n",
       "    }\n",
       "\n",
       "    .dataframe thead th {\n",
       "        text-align: right;\n",
       "    }\n",
       "</style>\n",
       "<table border=\"1\" class=\"dataframe\">\n",
       "  <thead>\n",
       "    <tr style=\"text-align: right;\">\n",
       "      <th></th>\n",
       "      <th>SL</th>\n",
       "      <th>SW</th>\n",
       "      <th>PL</th>\n",
       "      <th>PW</th>\n",
       "      <th>Classification</th>\n",
       "    </tr>\n",
       "  </thead>\n",
       "  <tbody>\n",
       "    <tr>\n",
       "      <th>34</th>\n",
       "      <td>4.9</td>\n",
       "      <td>3.1</td>\n",
       "      <td>1.5</td>\n",
       "      <td>0.1</td>\n",
       "      <td>Iris-setosa</td>\n",
       "    </tr>\n",
       "    <tr>\n",
       "      <th>37</th>\n",
       "      <td>4.9</td>\n",
       "      <td>3.1</td>\n",
       "      <td>1.5</td>\n",
       "      <td>0.1</td>\n",
       "      <td>Iris-setosa</td>\n",
       "    </tr>\n",
       "    <tr>\n",
       "      <th>142</th>\n",
       "      <td>5.8</td>\n",
       "      <td>2.7</td>\n",
       "      <td>5.1</td>\n",
       "      <td>1.9</td>\n",
       "      <td>Iris-virginica</td>\n",
       "    </tr>\n",
       "  </tbody>\n",
       "</table>\n",
       "</div>"
      ],
      "text/plain": [
       "      SL   SW   PL   PW  Classification\n",
       "34   4.9  3.1  1.5  0.1     Iris-setosa\n",
       "37   4.9  3.1  1.5  0.1     Iris-setosa\n",
       "142  5.8  2.7  5.1  1.9  Iris-virginica"
      ]
     },
     "execution_count": 11,
     "metadata": {},
     "output_type": "execute_result"
    }
   ],
   "source": [
    "df[df.duplicated()]"
   ]
  },
  {
   "cell_type": "code",
   "execution_count": 12,
   "id": "c29b5cb1",
   "metadata": {},
   "outputs": [],
   "source": [
    "# removing the duplicated rows\n",
    "df.drop_duplicates(inplace=True)"
   ]
  },
  {
   "cell_type": "code",
   "execution_count": 13,
   "id": "3705c04e",
   "metadata": {},
   "outputs": [
    {
     "data": {
      "text/plain": [
       "0"
      ]
     },
     "execution_count": 13,
     "metadata": {},
     "output_type": "execute_result"
    }
   ],
   "source": [
    "df.duplicated().sum()"
   ]
  },
  {
   "cell_type": "code",
   "execution_count": 14,
   "id": "11dd2f0d",
   "metadata": {},
   "outputs": [
    {
     "data": {
      "image/png": "[encoded data removed]",
      "text/plain": [
       "<Figure size 640x480 with 1 Axes>"
      ]
     },
     "metadata": {},
     "output_type": "display_data"
    },
    {
     "data": {
      "image/png": "[encoded data removed]",
      "text/plain": [
       "<Figure size 640x480 with 1 Axes>"
      ]
     },
     "metadata": {},
     "output_type": "display_data"
    },
    {
     "data": {
      "image/png": "[encoded data removed]",
      "text/plain": [
       "<Figure size 640x480 with 1 Axes>"
      ]
     },
     "metadata": {},
     "output_type": "display_data"
    }
   ],
   "source": [
    "#Checking and plotting outliers\n",
    "for i in ['SL','SW','PL']:\n",
    "    plt.figure()\n",
    "    plt.boxplot(df[i])\n",
    "    plt.title(i)"
   ]
  },
  {
   "cell_type": "code",
   "execution_count": 15,
   "id": "aefcd5b1",
   "metadata": {},
   "outputs": [
    {
     "name": "stdout",
     "output_type": "stream",
     "text": [
      "2.8\n",
      "3.0\n",
      "3.3\n"
     ]
    }
   ],
   "source": [
    "# Finding out the outliers\n",
    "Q1 = np.percentile(df['SW'],25,interpolation='midpoint')\n",
    "Q2 = np.percentile(df['SW'],50,interpolation='midpoint')\n",
    "Q3 = np.percentile(df['SW'],75,interpolation='midpoint')\n",
    "print(Q1)\n",
    "print(Q2)\n",
    "print(Q3)"
   ]
  },
  {
   "cell_type": "code",
   "execution_count": 16,
   "id": "16cd5567",
   "metadata": {},
   "outputs": [
    {
     "data": {
      "text/plain": [
       "3.0"
      ]
     },
     "execution_count": 16,
     "metadata": {},
     "output_type": "execute_result"
    }
   ],
   "source": [
    "df['SW'].median()"
   ]
  },
  {
   "cell_type": "code",
   "execution_count": 17,
   "id": "7da637ca",
   "metadata": {},
   "outputs": [],
   "source": [
    "IQR = Q3-Q1\n",
    "low_lim = Q1 - 1.5*IQR\n",
    "upp_lim = Q3 + 1.5*IQR"
   ]
  },
  {
   "cell_type": "code",
   "execution_count": 18,
   "id": "f656341d",
   "metadata": {},
   "outputs": [],
   "source": [
    "outlier = []\n",
    "for x in df['SW']:\n",
    "    if (x>upp_lim or x<low_lim):\n",
    "        outlier.append(x)"
   ]
  },
  {
   "cell_type": "code",
   "execution_count": 19,
   "id": "00371e74",
   "metadata": {},
   "outputs": [
    {
     "data": {
      "text/plain": [
       "[4.4, 4.1, 4.2, 2.0]"
      ]
     },
     "execution_count": 19,
     "metadata": {},
     "output_type": "execute_result"
    }
   ],
   "source": [
    "# printing the outlier values\n",
    "outlier"
   ]
  },
  {
   "cell_type": "code",
   "execution_count": 20,
   "id": "bbae7cf3",
   "metadata": {},
   "outputs": [
    {
     "data": {
      "text/plain": [
       "Int64Index([60], dtype='int64')"
      ]
     },
     "execution_count": 20,
     "metadata": {},
     "output_type": "execute_result"
    }
   ],
   "source": [
    "# checking the location of outlier values \n",
    "ind1 = df['SW']<low_lim\n",
    "df.loc[ind1].index"
   ]
  },
  {
   "cell_type": "code",
   "execution_count": 21,
   "id": "b0591ef5",
   "metadata": {},
   "outputs": [
    {
     "data": {
      "text/plain": [
       "Int64Index([15, 32, 33], dtype='int64')"
      ]
     },
     "execution_count": 21,
     "metadata": {},
     "output_type": "execute_result"
    }
   ],
   "source": [
    "ind2 = df['SW']>upp_lim\n",
    "df.loc[ind2].index"
   ]
  },
  {
   "cell_type": "code",
   "execution_count": 22,
   "id": "68d49ba5",
   "metadata": {},
   "outputs": [],
   "source": [
    "# Removing the outlier values\n",
    "df.drop([15, 32, 33, 60], inplace=True)"
   ]
  },
  {
   "cell_type": "code",
   "execution_count": 23,
   "id": "d4124916",
   "metadata": {},
   "outputs": [
    {
     "data": {
      "text/plain": [
       "SL                0\n",
       "SW                0\n",
       "PL                0\n",
       "PW                0\n",
       "Classification    0\n",
       "dtype: int64"
      ]
     },
     "execution_count": 23,
     "metadata": {},
     "output_type": "execute_result"
    }
   ],
   "source": [
    "df.isna().sum()"
   ]
  },
  {
   "cell_type": "code",
   "execution_count": 24,
   "id": "11526fe6",
   "metadata": {},
   "outputs": [],
   "source": [
    "#Encoding the Classification column\n",
    "from sklearn.preprocessing import LabelEncoder\n",
    "le=LabelEncoder()\n",
    "df['Classification'] = le.fit_transform(df['Classification'])"
   ]
  },
  {
   "cell_type": "code",
   "execution_count": 25,
   "id": "85f6733f",
   "metadata": {},
   "outputs": [
    {
     "name": "stdout",
     "output_type": "stream",
     "text": [
      "      SL   SW    PL   PW  Classification\n",
      "0    5.1  3.5  1.40  0.2               0\n",
      "1    4.9  3.0  1.40  0.2               0\n",
      "2    5.8  3.2  1.30  0.2               0\n",
      "3    4.6  3.1  1.50  0.2               0\n",
      "4    5.0  3.6  1.40  0.2               0\n",
      "..   ...  ...   ...  ...             ...\n",
      "145  6.7  3.0  5.20  2.3               2\n",
      "146  6.3  2.5  5.00  1.9               2\n",
      "147  6.5  3.0  4.35  2.0               2\n",
      "148  6.2  3.4  5.40  2.3               2\n",
      "149  5.9  3.0  5.10  1.8               2\n",
      "\n",
      "[143 rows x 5 columns]\n"
     ]
    }
   ],
   "source": [
    "print(df)"
   ]
  },
  {
   "cell_type": "code",
   "execution_count": 26,
   "id": "71ca4e52",
   "metadata": {},
   "outputs": [],
   "source": [
    "#Splitting the data into feature and target. 'Classification' is the target.\n",
    "y=df['Classification']\n",
    "x=df.drop(['Classification'],axis=1)"
   ]
  },
  {
   "cell_type": "markdown",
   "id": "50cb8fbd",
   "metadata": {},
   "source": [
    "# Logistic Regression"
   ]
  },
  {
   "cell_type": "code",
   "execution_count": 27,
   "id": "9a6e30a2",
   "metadata": {},
   "outputs": [],
   "source": [
    "#Splitting the data for training and testing\n",
    "from sklearn.model_selection import train_test_split\n",
    "x_train,x_test,y_train,y_test=train_test_split(x,y,random_state=42,test_size=0.2)"
   ]
  },
  {
   "cell_type": "code",
   "execution_count": 28,
   "id": "3ca38b95",
   "metadata": {},
   "outputs": [],
   "source": [
    "from sklearn.linear_model import LogisticRegression\n",
    "#creating instance\n",
    "clf =LogisticRegression()\n",
    "#fitting the data into model\n",
    "model=clf.fit(x_train,y_train)\n",
    "#prediction\n",
    "y_pred=model.predict(x_test)"
   ]
  },
  {
   "cell_type": "code",
   "execution_count": 29,
   "id": "08961aa9",
   "metadata": {},
   "outputs": [
    {
     "name": "stdout",
     "output_type": "stream",
     "text": [
      "Accuracy for Logistic Regression =  0.8620689655172413\n",
      "Precision for Logistic Regression =  0.8620689655172413\n",
      "Recall for Logistic Regression =  0.8613636363636363\n",
      "f1 score for Logistic Regression =  0.8695906432748538\n",
      "Confusion matrix for Logistic Regression\n",
      " [[ 7  0  0]\n",
      " [ 1 10  2]\n",
      " [ 0  1  8]]\n"
     ]
    }
   ],
   "source": [
    "#Finding out the evaluation metrics for Logistic Regression\n",
    "from sklearn.metrics import confusion_matrix,accuracy_score,precision_score,recall_score,f1_score\n",
    "acc_log = accuracy_score(y_test,y_pred)\n",
    "print('Accuracy for Logistic Regression = ',acc_log)\n",
    "print('Precision for Logistic Regression = ',precision_score(y_test,y_pred, average='micro'))\n",
    "print('Recall for Logistic Regression = ',recall_score(y_test,y_pred, average='macro'))\n",
    "print('f1 score for Logistic Regression = ',f1_score(y_test,y_pred, average='macro'))\n",
    "print('Confusion matrix for Logistic Regression\\n',confusion_matrix(y_pred,y_test))"
   ]
  },
  {
   "cell_type": "markdown",
   "id": "c0535e09",
   "metadata": {},
   "source": [
    "# kNN"
   ]
  },
  {
   "cell_type": "code",
   "execution_count": 30,
   "id": "6ddb2de2",
   "metadata": {},
   "outputs": [
    {
     "name": "stderr",
     "output_type": "stream",
     "text": [
      "C:\\Users\\rejoj\\anaconda3\\lib\\site-packages\\sklearn\\neighbors\\_classification.py:228: FutureWarning: Unlike other reduction functions (e.g. `skew`, `kurtosis`), the default behavior of `mode` typically preserves the axis it acts along. In SciPy 1.11.0, this behavior will change: the default value of `keepdims` will become False, the `axis` over which the statistic is taken will be eliminated, and the value None will no longer be accepted. Set `keepdims` to True or False to avoid this warning.\n",
      "  mode, _ = stats.mode(_y[neigh_ind, k], axis=1)\n",
      "C:\\Users\\rejoj\\anaconda3\\lib\\site-packages\\sklearn\\neighbors\\_classification.py:228: FutureWarning: Unlike other reduction functions (e.g. `skew`, `kurtosis`), the default behavior of `mode` typically preserves the axis it acts along. In SciPy 1.11.0, this behavior will change: the default value of `keepdims` will become False, the `axis` over which the statistic is taken will be eliminated, and the value None will no longer be accepted. Set `keepdims` to True or False to avoid this warning.\n",
      "  mode, _ = stats.mode(_y[neigh_ind, k], axis=1)\n",
      "C:\\Users\\rejoj\\anaconda3\\lib\\site-packages\\sklearn\\neighbors\\_classification.py:228: FutureWarning: Unlike other reduction functions (e.g. `skew`, `kurtosis`), the default behavior of `mode` typically preserves the axis it acts along. In SciPy 1.11.0, this behavior will change: the default value of `keepdims` will become False, the `axis` over which the statistic is taken will be eliminated, and the value None will no longer be accepted. Set `keepdims` to True or False to avoid this warning.\n",
      "  mode, _ = stats.mode(_y[neigh_ind, k], axis=1)\n",
      "C:\\Users\\rejoj\\anaconda3\\lib\\site-packages\\sklearn\\neighbors\\_classification.py:228: FutureWarning: Unlike other reduction functions (e.g. `skew`, `kurtosis`), the default behavior of `mode` typically preserves the axis it acts along. In SciPy 1.11.0, this behavior will change: the default value of `keepdims` will become False, the `axis` over which the statistic is taken will be eliminated, and the value None will no longer be accepted. Set `keepdims` to True or False to avoid this warning.\n",
      "  mode, _ = stats.mode(_y[neigh_ind, k], axis=1)\n",
      "C:\\Users\\rejoj\\anaconda3\\lib\\site-packages\\sklearn\\neighbors\\_classification.py:228: FutureWarning: Unlike other reduction functions (e.g. `skew`, `kurtosis`), the default behavior of `mode` typically preserves the axis it acts along. In SciPy 1.11.0, this behavior will change: the default value of `keepdims` will become False, the `axis` over which the statistic is taken will be eliminated, and the value None will no longer be accepted. Set `keepdims` to True or False to avoid this warning.\n",
      "  mode, _ = stats.mode(_y[neigh_ind, k], axis=1)\n",
      "C:\\Users\\rejoj\\anaconda3\\lib\\site-packages\\sklearn\\neighbors\\_classification.py:228: FutureWarning: Unlike other reduction functions (e.g. `skew`, `kurtosis`), the default behavior of `mode` typically preserves the axis it acts along. In SciPy 1.11.0, this behavior will change: the default value of `keepdims` will become False, the `axis` over which the statistic is taken will be eliminated, and the value None will no longer be accepted. Set `keepdims` to True or False to avoid this warning.\n",
      "  mode, _ = stats.mode(_y[neigh_ind, k], axis=1)\n",
      "C:\\Users\\rejoj\\anaconda3\\lib\\site-packages\\sklearn\\neighbors\\_classification.py:228: FutureWarning: Unlike other reduction functions (e.g. `skew`, `kurtosis`), the default behavior of `mode` typically preserves the axis it acts along. In SciPy 1.11.0, this behavior will change: the default value of `keepdims` will become False, the `axis` over which the statistic is taken will be eliminated, and the value None will no longer be accepted. Set `keepdims` to True or False to avoid this warning.\n",
      "  mode, _ = stats.mode(_y[neigh_ind, k], axis=1)\n",
      "C:\\Users\\rejoj\\anaconda3\\lib\\site-packages\\sklearn\\neighbors\\_classification.py:228: FutureWarning: Unlike other reduction functions (e.g. `skew`, `kurtosis`), the default behavior of `mode` typically preserves the axis it acts along. In SciPy 1.11.0, this behavior will change: the default value of `keepdims` will become False, the `axis` over which the statistic is taken will be eliminated, and the value None will no longer be accepted. Set `keepdims` to True or False to avoid this warning.\n",
      "  mode, _ = stats.mode(_y[neigh_ind, k], axis=1)\n",
      "C:\\Users\\rejoj\\anaconda3\\lib\\site-packages\\sklearn\\neighbors\\_classification.py:228: FutureWarning: Unlike other reduction functions (e.g. `skew`, `kurtosis`), the default behavior of `mode` typically preserves the axis it acts along. In SciPy 1.11.0, this behavior will change: the default value of `keepdims` will become False, the `axis` over which the statistic is taken will be eliminated, and the value None will no longer be accepted. Set `keepdims` to True or False to avoid this warning.\n",
      "  mode, _ = stats.mode(_y[neigh_ind, k], axis=1)\n",
      "C:\\Users\\rejoj\\anaconda3\\lib\\site-packages\\sklearn\\neighbors\\_classification.py:228: FutureWarning: Unlike other reduction functions (e.g. `skew`, `kurtosis`), the default behavior of `mode` typically preserves the axis it acts along. In SciPy 1.11.0, this behavior will change: the default value of `keepdims` will become False, the `axis` over which the statistic is taken will be eliminated, and the value None will no longer be accepted. Set `keepdims` to True or False to avoid this warning.\n",
      "  mode, _ = stats.mode(_y[neigh_ind, k], axis=1)\n",
      "C:\\Users\\rejoj\\anaconda3\\lib\\site-packages\\sklearn\\neighbors\\_classification.py:228: FutureWarning: Unlike other reduction functions (e.g. `skew`, `kurtosis`), the default behavior of `mode` typically preserves the axis it acts along. In SciPy 1.11.0, this behavior will change: the default value of `keepdims` will become False, the `axis` over which the statistic is taken will be eliminated, and the value None will no longer be accepted. Set `keepdims` to True or False to avoid this warning.\n",
      "  mode, _ = stats.mode(_y[neigh_ind, k], axis=1)\n",
      "C:\\Users\\rejoj\\anaconda3\\lib\\site-packages\\sklearn\\neighbors\\_classification.py:228: FutureWarning: Unlike other reduction functions (e.g. `skew`, `kurtosis`), the default behavior of `mode` typically preserves the axis it acts along. In SciPy 1.11.0, this behavior will change: the default value of `keepdims` will become False, the `axis` over which the statistic is taken will be eliminated, and the value None will no longer be accepted. Set `keepdims` to True or False to avoid this warning.\n",
      "  mode, _ = stats.mode(_y[neigh_ind, k], axis=1)\n"
     ]
    }
   ],
   "source": [
    "from sklearn.neighbors import KNeighborsClassifier\n",
    "metric_k = []\n",
    "neighbors = np.arange(3,15)\n",
    "\n",
    "for k in neighbors:\n",
    "    classifier = KNeighborsClassifier(n_neighbors=k,metric='minkowski',p=2)\n",
    "    model = classifier.fit(x_train,y_train)\n",
    "    y_pred_knn = model.predict(x_test)\n",
    "    acc_knn = accuracy_score(y_test,y_pred_knn)\n",
    "    metric_k.append(acc_knn)"
   ]
  },
  {
   "cell_type": "code",
   "execution_count": 31,
   "id": "634caf12",
   "metadata": {},
   "outputs": [
    {
     "data": {
      "text/plain": [
       "[0.8275862068965517,\n",
       " 0.896551724137931,\n",
       " 0.8620689655172413,\n",
       " 0.896551724137931,\n",
       " 0.896551724137931,\n",
       " 0.896551724137931,\n",
       " 0.9310344827586207,\n",
       " 0.896551724137931,\n",
       " 0.9310344827586207,\n",
       " 0.896551724137931,\n",
       " 0.896551724137931,\n",
       " 0.8620689655172413]"
      ]
     },
     "execution_count": 31,
     "metadata": {},
     "output_type": "execute_result"
    }
   ],
   "source": [
    "metric_k"
   ]
  },
  {
   "cell_type": "code",
   "execution_count": 32,
   "id": "3c7e240c",
   "metadata": {},
   "outputs": [
    {
     "data": {
      "image/png": "[encoded data removed]",
      "text/plain": [
       "<Figure size 640x480 with 1 Axes>"
      ]
     },
     "metadata": {},
     "output_type": "display_data"
    }
   ],
   "source": [
    "#plotting k value to know the highest value\n",
    "plt.plot(neighbors,metric_k,'o-')\n",
    "plt.xlabel('k value')\n",
    "plt.ylabel('accuracy')\n",
    "plt.grid()"
   ]
  },
  {
   "cell_type": "code",
   "execution_count": 33,
   "id": "267c1698",
   "metadata": {},
   "outputs": [
    {
     "name": "stdout",
     "output_type": "stream",
     "text": [
      "Accuracy for kNN =  0.9310344827586207\n",
      "Precision for kNN =  0.9310344827586207\n",
      "Recall for kNN =  0.9310344827586207\n",
      "f1 score for kNN =  0.9310344827586207\n",
      "Confusion matrix\n",
      ": [[ 7  0  0]\n",
      " [ 1 11  1]\n",
      " [ 0  0  9]]\n"
     ]
    },
    {
     "name": "stderr",
     "output_type": "stream",
     "text": [
      "C:\\Users\\rejoj\\anaconda3\\lib\\site-packages\\sklearn\\neighbors\\_classification.py:228: FutureWarning: Unlike other reduction functions (e.g. `skew`, `kurtosis`), the default behavior of `mode` typically preserves the axis it acts along. In SciPy 1.11.0, this behavior will change: the default value of `keepdims` will become False, the `axis` over which the statistic is taken will be eliminated, and the value None will no longer be accepted. Set `keepdims` to True or False to avoid this warning.\n",
      "  mode, _ = stats.mode(_y[neigh_ind, k], axis=1)\n"
     ]
    }
   ],
   "source": [
    "classifier = KNeighborsClassifier(n_neighbors=9,metric='minkowski',p=2)\n",
    "model = classifier.fit(x_train,y_train)\n",
    "y_pred_knn = model.predict(x_test)\n",
    "acc_knn = accuracy_score(y_test,y_pred_knn)\n",
    "print('Accuracy for kNN = ',acc_knn)\n",
    "print('Precision for kNN = ',precision_score(y_test,y_pred_knn, average='micro'))\n",
    "print('Recall for kNN = ',recall_score(y_test,y_pred_knn, average='micro'))\n",
    "print('f1 score for kNN = ',f1_score(y_test,y_pred_knn, average='micro'))\n",
    "print('Confusion matrix\\n:',confusion_matrix(y_pred_knn,y_test))"
   ]
  },
  {
   "cell_type": "markdown",
   "id": "7f7d3dbc",
   "metadata": {},
   "source": [
    "# SVM"
   ]
  },
  {
   "cell_type": "code",
   "execution_count": 34,
   "id": "7aea1105",
   "metadata": {},
   "outputs": [
    {
     "data": {
      "text/plain": [
       "SVC(kernel='linear')"
      ]
     },
     "execution_count": 34,
     "metadata": {},
     "output_type": "execute_result"
    }
   ],
   "source": [
    "from sklearn.svm import SVC\n",
    "\n",
    "#creating instance with the model and kernel linear\n",
    "svmclf = SVC(kernel = 'linear')\n",
    "\n",
    "#fitting the model\n",
    "svmclf.fit(x_train,y_train)"
   ]
  },
  {
   "cell_type": "code",
   "execution_count": 35,
   "id": "f88e9397",
   "metadata": {},
   "outputs": [],
   "source": [
    "#prediction\n",
    "y_pred_svm_lin = svmclf.predict(x_test)"
   ]
  },
  {
   "cell_type": "code",
   "execution_count": 36,
   "id": "f72415eb",
   "metadata": {},
   "outputs": [
    {
     "name": "stdout",
     "output_type": "stream",
     "text": [
      "Accuracy for SVM =  0.896551724137931\n",
      "Precision for SVM =  0.896551724137931\n",
      "Recall for SVM =  0.896551724137931\n",
      "f1 score for SVM =  0.896551724137931\n",
      "Confusion matrix\n",
      " [[ 8  0  0]\n",
      " [ 0 10  1]\n",
      " [ 0  2  8]]\n"
     ]
    }
   ],
   "source": [
    "#checking and printing the metrics\n",
    "from sklearn.metrics import accuracy_score,confusion_matrix\n",
    "acc_svm_lin = accuracy_score(y_test,y_pred_svm_lin)\n",
    "print('Accuracy for SVM = ',acc_svm_lin)\n",
    "print('Precision for SVM = ',precision_score(y_test,y_pred_svm_lin, average='micro'))\n",
    "print('Recall for SVM = ',recall_score(y_test,y_pred_svm_lin, average='micro'))\n",
    "print('f1 score for SVM = ',f1_score(y_test,y_pred_svm_lin, average='micro'))\n",
    "print('Confusion matrix\\n',confusion_matrix(y_test,y_pred_svm_lin))"
   ]
  },
  {
   "cell_type": "code",
   "execution_count": 37,
   "id": "fe9d60d2",
   "metadata": {},
   "outputs": [
    {
     "data": {
      "text/plain": [
       "SVC()"
      ]
     },
     "execution_count": 37,
     "metadata": {},
     "output_type": "execute_result"
    }
   ],
   "source": [
    "#with kernel RBF\n",
    "from sklearn.svm import SVC\n",
    "svmclf = SVC(kernel = 'rbf')\n",
    "svmclf.fit(x_train,y_train)"
   ]
  },
  {
   "cell_type": "code",
   "execution_count": 38,
   "id": "fe78ad84",
   "metadata": {},
   "outputs": [],
   "source": [
    "#prediction\n",
    "y_pred_svm_rbf = svmclf.predict(x_test)"
   ]
  },
  {
   "cell_type": "code",
   "execution_count": 39,
   "id": "09c3ae46",
   "metadata": {},
   "outputs": [
    {
     "name": "stdout",
     "output_type": "stream",
     "text": [
      "Accuracy for SVM with RBF =  0.8620689655172413\n",
      "Precision for SVM with RBF =  0.8620689655172413\n",
      "Recall for SVM with RBF =  0.8620689655172413\n",
      "f1 score for SVM with RBF =  0.8620689655172413\n",
      "Confusion matrix\n",
      " [[ 7  1  0]\n",
      " [ 0 11  0]\n",
      " [ 0  3  7]]\n"
     ]
    }
   ],
   "source": [
    "#checking and printing the metrics\n",
    "acc_svm_rbf = accuracy_score(y_test,y_pred_svm_rbf)\n",
    "print('Accuracy for SVM with RBF = ', acc_svm_rbf)\n",
    "print('Precision for SVM with RBF = ',precision_score(y_test,y_pred_svm_rbf, average='micro'))\n",
    "print('Recall for SVM with RBF = ',recall_score(y_test,y_pred_svm_rbf, average='micro'))\n",
    "print('f1 score for SVM with RBF = ',f1_score(y_test,y_pred_svm_rbf, average='micro'))\n",
    "print('Confusion matrix\\n',confusion_matrix(y_test,y_pred_svm_rbf))"
   ]
  },
  {
   "cell_type": "code",
   "execution_count": 40,
   "id": "dfe62e62",
   "metadata": {},
   "outputs": [
    {
     "data": {
      "text/plain": [
       "SVC(kernel='poly')"
      ]
     },
     "execution_count": 40,
     "metadata": {},
     "output_type": "execute_result"
    }
   ],
   "source": [
    "#with kernel Polynomial\n",
    "from sklearn.svm import SVC\n",
    "svmclf = SVC(kernel = 'poly')\n",
    "svmclf.fit(x_train,y_train)"
   ]
  },
  {
   "cell_type": "code",
   "execution_count": 41,
   "id": "32d7f921",
   "metadata": {},
   "outputs": [],
   "source": [
    "#prediction\n",
    "y_pred_svm_poly = svmclf.predict(x_test)"
   ]
  },
  {
   "cell_type": "code",
   "execution_count": 42,
   "id": "70c57358",
   "metadata": {},
   "outputs": [
    {
     "name": "stdout",
     "output_type": "stream",
     "text": [
      "Accuracy for SVM with Polynomial =  0.896551724137931\n",
      "Precision for SVM with Polynomial =  0.896551724137931\n",
      "Recall for SVM with Polynomial =  0.896551724137931\n",
      "f1 score for SVM with Polynomial =  0.896551724137931\n",
      "Confusion matrix\n",
      " [[ 7  1  0]\n",
      " [ 0 10  1]\n",
      " [ 0  1  9]]\n"
     ]
    }
   ],
   "source": [
    "#checking and printing the metrics\n",
    "acc_svm_poly = accuracy_score(y_test,y_pred_svm_poly)\n",
    "print('Accuracy for SVM with Polynomial = ', acc_svm_poly)\n",
    "print('Precision for SVM with Polynomial = ',precision_score(y_test,y_pred_svm_poly, average='micro'))\n",
    "print('Recall for SVM with Polynomial = ',recall_score(y_test,y_pred_svm_poly, average='micro'))\n",
    "print('f1 score for SVM with Polynomial = ',f1_score(y_test,y_pred_svm_poly, average='micro'))\n",
    "print('Confusion matrix\\n',confusion_matrix(y_test,y_pred_svm_poly))"
   ]
  },
  {
   "cell_type": "markdown",
   "id": "f1565d9b",
   "metadata": {},
   "source": [
    "# Decision Tree"
   ]
  },
  {
   "cell_type": "code",
   "execution_count": 43,
   "id": "60667c62",
   "metadata": {},
   "outputs": [
    {
     "data": {
      "text/plain": [
       "DecisionTreeClassifier(random_state=42)"
      ]
     },
     "execution_count": 43,
     "metadata": {},
     "output_type": "execute_result"
    }
   ],
   "source": [
    "from sklearn.tree import DecisionTreeClassifier\n",
    "dt_clf = DecisionTreeClassifier(random_state = 42)\n",
    "dt_clf.fit(x_train,y_train)"
   ]
  },
  {
   "cell_type": "code",
   "execution_count": 44,
   "id": "14dc09c5",
   "metadata": {},
   "outputs": [],
   "source": [
    "y_pred_dt = dt_clf.predict(x_test)"
   ]
  },
  {
   "cell_type": "code",
   "execution_count": 45,
   "id": "c8f9500d",
   "metadata": {},
   "outputs": [
    {
     "name": "stdout",
     "output_type": "stream",
     "text": [
      "Accuracy for Decision Tree =  0.896551724137931\n",
      "Precision for Decision Tree =  0.896551724137931\n",
      "Recall for Decision Tree =  0.896551724137931\n",
      "f1 score for Decision Tree =  0.896551724137931\n",
      "Confusion matrix\n",
      " [[ 8  0  0]\n",
      " [ 0 10  1]\n",
      " [ 0  2  8]]\n"
     ]
    }
   ],
   "source": [
    "acc_dt = accuracy_score(y_test,y_pred_dt)\n",
    "print('Accuracy for Decision Tree = ',acc_dt)\n",
    "print('Precision for Decision Tree = ',precision_score(y_test,y_pred_dt, average='micro'))\n",
    "print('Recall for Decision Tree = ',recall_score(y_test,y_pred_dt, average='micro'))\n",
    "print('f1 score for Decision Tree = ',f1_score(y_test,y_pred_dt, average='micro'))\n",
    "print('Confusion matrix\\n',confusion_matrix(y_test,y_pred_dt))"
   ]
  },
  {
   "cell_type": "markdown",
   "id": "ad8e93ac",
   "metadata": {},
   "source": [
    "# Random Forest"
   ]
  },
  {
   "cell_type": "code",
   "execution_count": 46,
   "id": "c8de1760",
   "metadata": {},
   "outputs": [
    {
     "data": {
      "text/plain": [
       "RandomForestClassifier(random_state=42)"
      ]
     },
     "execution_count": 46,
     "metadata": {},
     "output_type": "execute_result"
    }
   ],
   "source": [
    "from sklearn.ensemble import RandomForestClassifier\n",
    "rf_clf=RandomForestClassifier(random_state=42)\n",
    "rf_clf.fit(x_train,y_train)"
   ]
  },
  {
   "cell_type": "code",
   "execution_count": 47,
   "id": "ae03fb3e",
   "metadata": {},
   "outputs": [],
   "source": [
    "y_pred_rf = rf_clf.predict(x_test)"
   ]
  },
  {
   "cell_type": "code",
   "execution_count": 48,
   "id": "cdaf3c5d",
   "metadata": {},
   "outputs": [
    {
     "name": "stdout",
     "output_type": "stream",
     "text": [
      "Accuracy for Random Forest =  0.896551724137931\n",
      "Precision for Random Forest =  0.896551724137931\n",
      "Recall for Random Forest =  0.896551724137931\n",
      "f1 score for Random Forest =  0.896551724137931\n",
      "Confusion matrix\n",
      " [[ 8  0  0]\n",
      " [ 0 10  1]\n",
      " [ 0  2  8]]\n"
     ]
    }
   ],
   "source": [
    "acc_rf = accuracy_score(y_test,y_pred_rf)\n",
    "print('Accuracy for Random Forest = ',acc_rf)\n",
    "print('Precision for Random Forest = ',precision_score(y_test,y_pred_rf, average='micro'))\n",
    "print('Recall for Random Forest = ',recall_score(y_test,y_pred_rf, average='micro'))\n",
    "print('f1 score for Random Forest = ',f1_score(y_test,y_pred_rf, average='micro'))\n",
    "print('Confusion matrix\\n',confusion_matrix(y_test,y_pred_rf))"
   ]
  },
  {
   "cell_type": "markdown",
   "id": "3c93ec38",
   "metadata": {},
   "source": [
    "# Find out which classification model gives the best result"
   ]
  },
  {
   "cell_type": "code",
   "execution_count": 49,
   "id": "def2de86",
   "metadata": {},
   "outputs": [
    {
     "data": {
      "text/plain": [
       "[0.8620689655172413,\n",
       " 0.9310344827586207,\n",
       " 0.896551724137931,\n",
       " 0.8620689655172413,\n",
       " 0.896551724137931,\n",
       " 0.896551724137931,\n",
       " 0.896551724137931]"
      ]
     },
     "execution_count": 49,
     "metadata": {},
     "output_type": "execute_result"
    }
   ],
   "source": [
    "#creating an array with the accuracy score of each classification model\n",
    "arr = [acc_log, acc_knn, acc_svm_lin, acc_svm_rbf, acc_svm_poly, acc_dt, acc_rf]\n",
    "arr"
   ]
  },
  {
   "cell_type": "code",
   "execution_count": 50,
   "id": "9800bce7",
   "metadata": {},
   "outputs": [],
   "source": [
    "#finding the maximum value in the array\n",
    "m = max(arr)"
   ]
  },
  {
   "cell_type": "code",
   "execution_count": 51,
   "id": "f127b65d",
   "metadata": {},
   "outputs": [
    {
     "name": "stdout",
     "output_type": "stream",
     "text": [
      "kNN gives the best result\n"
     ]
    }
   ],
   "source": [
    "#Checking out which classification model accuracy is highest and printing the result\n",
    "if m==acc_log:\n",
    "    print('Logistic regression gives the best result')\n",
    "elif m==acc_knn:\n",
    "    print('kNN gives the best result')\n",
    "elif m==acc_svm_lin:\n",
    "    print('SVM with linear kernal gives the best result')\n",
    "elif m==acc_svm_rbf:\n",
    "    print('SVM with rbf kernel gives the best result')\n",
    "elif m==acc_svm_poly:\n",
    "    print('SVM with polynomial kernel gives the best result')\n",
    "elif m==acc_dt:\n",
    "    print('Decision Tree gives the best result')\n",
    "else: print('Random Forest gives the best result')"
   ]
  }
 ],
 "metadata": {
  "kernelspec": {
   "display_name": "Python 3 (ipykernel)",
   "language": "python",
   "name": "python3"
  },
  "language_info": {
   "codemirror_mode": {
    "name": "ipython",
    "version": 3
   },
   "file_extension": ".py",
   "mimetype": "text/x-python",
   "name": "python",
   "nbconvert_exporter": "python",
   "pygments_lexer": "ipython3",
   "version": "3.9.13"
  }
 },
 "nbformat": 4,
 "nbformat_minor": 5
}
